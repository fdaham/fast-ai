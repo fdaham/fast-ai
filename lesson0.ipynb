{
 "cells": [
  {
   "cell_type": "markdown",
   "metadata": {},
   "source": [
    "# Lesson 0: Set Up"
   ]
  },
  {
   "cell_type": "markdown",
   "metadata": {},
   "source": [
    "Deep learning networks require large data sets and capable machines (computers with Nvidia GPUs), which can be accessed remotely with deep learning servers. This lesson covers how to set up a remote deep learning server using Amazon Web Services (AWS). All course files referenced in these lessons can be found in the course's [GitHub repository](https://github.com/fastai/courses/tree/master/deeplearning1).\n",
    "\n",
    "While taking this course, I found it helpful to switch between p2.xlarge and t2.micro GPU instances. For initial set ups, t2.micro and smaller data samples are used before running complete data sets on the p2 instance (which can support larger data volumes). This course provides scripts that automate the initiation of these GPU instances."
   ]
  },
  {
   "cell_type": "markdown",
   "metadata": {},
   "source": [
    "## Setting Up an AWS Account"
   ]
  },
  {
   "cell_type": "markdown",
   "metadata": {},
   "source": [
    "To start using AWS:\n",
    "\n",
    "1. Create a user with administrative access in the Identity Access Management (IAM) portal. Save the Access Key and it’s ID at this step--you won’t be able to recover it later.\n",
    "2. Request a larger p2 space using the [AWS EC2 Request Form](https://aws.amazon.com/contact-us/ec2-request).  \n",
    "\n",
    "Note, AWS charges monthly for:\n",
    "* Running Instances (P2.XLARGE is $0.90/hr and T2.MICRO is free)\n",
    "\n",
    "* Allocated Elastic IP ($0.005/hr) \n",
    "\n",
    "* EBS Volume ($0.10/GB)\n"
   ]
  },
  {
   "cell_type": "markdown",
   "metadata": {},
   "source": [
    "## Configuring AWS "
   ]
  },
  {
   "cell_type": "markdown",
   "metadata": {},
   "source": [
    "To configure AWS in terminal, enter:\n",
    "<br><br>\n",
    "```aws configure```\n",
    "<br><br>\n",
    "You'll be prompted for the Access Key and ID as well as the default region name and output format:\n",
    "<br><br>\n",
    "```AWS Access Key ID: [insert ID here]\n",
    "AWS Secret Access Key: [insert key here]\n",
    "Default region name: us-west-2\n",
    "Default output format: text```"
   ]
  },
  {
   "cell_type": "markdown",
   "metadata": {},
   "source": [
    "## Starting a GPU Instance"
   ]
  },
  {
   "cell_type": "markdown",
   "metadata": {},
   "source": [
    "The p2 (```setup_p2.sh```) and t2 (```setup_t2.sh```) scripts given will create and run an instance while also giving connection instructions. To create a t2.micro instance, for example, enter:\n",
    "<br><br>\n",
    "```bash documents/course-master/setup/setup_t2.sh```\n",
    "<br><br>\n",
    "This should confirm that the instance was started and print an SSH key to connect to that instance. You can also see in the AWS EC2 console that the instance is running."
   ]
  },
  {
   "cell_type": "markdown",
   "metadata": {},
   "source": [
    "Note, these are some issues I experienced at this step:\n",
    "- Each time an instance is created, a VPC is created. You’re limited to a maximum of 5 VPCs. Unused VPCs can be deleted through the AWS console.\n",
    "- Since you’re being charged for them by the hour, release any unused elastic IPs (also done through the AWS console). \n",
    "- When first re-running a set up script, I received this error:\n",
    "\n",
    "```\n",
    "True\n",
    "An error occurred (InvalidKeyPair.NotFound) when calling the RunInstances operation: The key pair ‘aws-key-fast-ai’ does not exist\n",
    "\n",
    "An error occurred (Missing Parameter) when calling the CreateTags operation: The request must contain the parameter resourceIdSet```\n",
    "\n",
    "&nbsp;&nbsp;&nbsp;&nbsp;&nbsp;&nbsp;&nbsp;Removing the RSA private key fixes this issue:\n",
    "<br>  \n",
    "\n",
    "&nbsp;&nbsp;&nbsp;&nbsp;&nbsp;&nbsp;&nbsp;```rm ~/.SSH/aws-key-fast-ai.pem```"
   ]
  },
  {
   "cell_type": "markdown",
   "metadata": {},
   "source": [
    "## Connecting to the Server"
   ]
  },
  {
   "cell_type": "markdown",
   "metadata": {},
   "source": [
    "When first starting my GPU instance, I was given an address to connect to my server. I will use this to SSH into my instance:\n",
    "<br><br>\n",
    "```ssh -i /Users/Farrah/.SSH/aws-key-fast-ai.pem ubuntu@ec2-[insert IP here].us-west-2.compute.amazonaws.com```\n",
    "<br><br>\n",
    "Once you've SSH'ed into your instance, you can copy over all the necessary course files:\n",
    "<br><br>\n",
    "```git clone https://github.com/fastai/courses.git```"
   ]
  },
  {
   "cell_type": "markdown",
   "metadata": {},
   "source": [
    "## Running a Jupyter Notebook"
   ]
  },
  {
   "cell_type": "markdown",
   "metadata": {},
   "source": [
    "Jupyter Notebook is an interactive tool that uses the IPython kernel for writing and compiling Python code. To launch a Jupyter Notebook in terminal, enter:\n",
    "<br><br>\n",
    "```jupyter notebook```\n",
    "<br><br>\n",
    "To use the notebook, copy the URL given in the instance’s SSH key followed by ```:8888``` (the port the instance is running on, which is revealed once the above command is entered). The same can be done using only the instance’s elastic IP followed by the port. When prompted for a password, enter: ```dl_course```. \n",
    "<br><br>\n",
    "Now is a good time to practice using the notebook. Here are some basics to know:\n",
    "- Use shift + return to run a cell and insert a new one below. \n",
    "- To write text, select ```Markdown``` from the dropdown instead of ```Code```. For Headings 1-5, add ```#```  to  ```#####``` followed by a space before the cell line.\n",
    "- Add ```%``` before a cell line to run magic commands and ```!``` for bash.\n",
    "- For a full list of Jupyter Notebook shortcuts, press ```h``` for help.\n",
    "- For more, browse through [Jupyter Notebook Mardown Cell Basics](http://jupyter-notebook.readthedocs.io/en/latest/examples/Notebook/Working%20With%20Markdown%20Cells.html#GitHub-flavored-markdown). \n",
    "\n",
    "When finished, don’t forget to stop all running instances. To do this (for now, since we will discuss using aliases in the next lesson), use the AWS console. "
   ]
  }
 ],
 "metadata": {
  "anaconda-cloud": {},
  "kernelspec": {
   "display_name": "Python [conda root]",
   "language": "python",
   "name": "conda-root-py"
  },
  "language_info": {
   "codemirror_mode": {
    "name": "ipython",
    "version": 2
   },
   "file_extension": ".py",
   "mimetype": "text/x-python",
   "name": "python",
   "nbconvert_exporter": "python",
   "pygments_lexer": "ipython2",
   "version": "2.7.12"
  }
 },
 "nbformat": 4,
 "nbformat_minor": 1
}
