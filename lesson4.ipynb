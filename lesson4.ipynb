{
 "cells": [
  {
   "cell_type": "markdown",
   "metadata": {},
   "source": [
    "# Lesson 4: CNN Review and Collaborative Filtering\n",
    "\n",
    "In this lesson, we'll end our discussion of CNN's with a review of convolutional, max pooling, and dense layers. We'll also cover dynamic learning rates, collaborative filtering, and recommender systems.\n",
    "\n",
    "## Reviewing CNN Layers\n",
    "\n",
    "![img](https://i.imgur.com/OGckuIn.png[/img])\n",
    "\n",
    "Let’s begin by revisiting the VGG16 model, which only has one type of convolutional and fully connected block (summarized in the image above, taken from [A Beginner's Guide to Understanding Convolutional Neural Networks](https://adeshpande3.github.io/adeshpande3.github.io/A-Beginner's-Guide-To-Understanding-Convolutional-Neural-Networks/)). Remember, a convolutional block is defined as:\n",
    "\n",
    "```python\n",
    "def ConvBlock(layers, model, filters):\n",
    "    for i in range(layers): \n",
    "        model.add(ZeroPadding2D((1,1)))\n",
    "        model.add(Convolution2D(filters, 3, 3, activation='relu'))\n",
    "    model.add(MaxPooling2D((2,2), strides=(2,2)))\n",
    "```\n",
    "\n",
    "where each block is a convolutional layer stacked with an activation function and followed by a max pooling layer. \n",
    "\n",
    "The convolutional layer, `Convolution2D`, passes filters over an input to produce different activation features. The number of filters and their dimensions are selected and passed over an input image to produce “simpler” images with different activation features using non-linear activation functions (ReLU in this case). This is meant to reduce the possibility of overfitting our data. The filter dimensions of the following convolutional layer will then become 3x3x$n$, where $n$ is the number of filters used in the previous layer. \n",
    "\n",
    "The next step is to apply the max pooling layer, `MaxPooling2D`, which will decrease the resolution of our input image by finding the maximum value in each 2x2 block of pixel values. This layer is often followed by a dense (or fully connected) layer, in order to get as close to our expected output as possible, as well as another non-linear activation function. The fully connected block is defined below: \n",
    "\n",
    "```python\n",
    "def FCBlock(model):\n",
    "    model.add(Dense(4096, activation='relu'))\n",
    "    model.add(Dropout(0.5))\n",
    "```\n",
    "\n",
    "So far, mathematically, we’ve seen that dense and convolutional layers are relatively simple to evaluate as they only involve matrix multiplication. The slight complication arises when weights are optimized through backpropagation and the partial derivative of the loss function is taken with respect to each weight. This is what allows us to train really powerful models. \n",
    "\n",
    "## Reviewing SGD"
   ]
  },
  {
   "cell_type": "code",
   "execution_count": 1,
   "metadata": {
    "collapsed": true
   },
   "outputs": [],
   "source": [
    "%matplotlib inline\n",
    "import math,sys,os,numpy as np\n",
    "from numpy.random import random\n",
    "from matplotlib import pyplot as plt\n",
    "from __future__ import print_function, division"
   ]
  },
  {
   "cell_type": "markdown",
   "metadata": {},
   "source": [
    "Let’s use the SGD algorithm on a simple linear function. We’ll use  $n$ random numbers in an array, $x$, to form the line $y = ax + b$, where $a$ and $b$ are constants. Of course, our inputs $x$ and $y$ share the same dimensions because they are linearly related. \n",
    "\n",
    "In Keras, we’ll start with our initial guesses of constants $a$ and $b$, $a_{guess}$ and $b_{guess}$. Given $x$, we can use these values to calculate $y_{pred}$ before taking the sum of squared errors, `sse`, of the generated output with the expected output, $y$. "
   ]
  },
  {
   "cell_type": "code",
   "execution_count": 2,
   "metadata": {
    "collapsed": false
   },
   "outputs": [],
   "source": [
    "def lin(a,b,x): return a*x+b\n",
    "def sse(y,y_pred): return ((y-y_pred)**2).sum()\n",
    "def loss(y,a,b,x): return sse(y, lin(a,b,x))\n",
    "def avg_loss(y,a,b,x): return np.sqrt(loss(y,a,b,x)/n)"
   ]
  },
  {
   "cell_type": "code",
   "execution_count": 3,
   "metadata": {
    "collapsed": true
   },
   "outputs": [],
   "source": [
    "a = 3.; b = 8.; n = 30\n",
    "x = random(n)\n",
    "y = lin(a,b,x)\n",
    "a_guess = -1.; b_guess = 1.\n",
    "avg_loss(y, a_guess, b_guess, x)\n",
    "lr = 0.12"
   ]
  },
  {
   "cell_type": "markdown",
   "metadata": {},
   "source": [
    "Once we’ve calculated $y_{pred}$, we can take the partial derivative of the loss function with respect to both $a_{guess}$ and $b_{guess}$. This will update their values in the direction opposite the gradient at a specified rate. As mentioned in previous lessons, our libraries can handle these analytic derivative calculations for us (as opposed to finite differencing) by adding a learning rate to each of our inputs to see how the output will vary. \n",
    "\n",
    "Here, we will make the calculations on our own:\n",
    "\n",
    "\\begin{equation*}\n",
    "\\frac{dl}{db_{guess}} = 2(y - a_{guess}x - b_{guess})(-1) = 2(y_{pred} - y) \n",
    "\\end{equation*}\n",
    "\\begin{equation*}\n",
    "\\frac{dl}{da_{guess}} = 2(y - a_{guess}x - b_{guess})(-x) = 2(y - y_{pred})x = \\frac{dl}{db_{guess}}x\n",
    "\\end{equation*}"
   ]
  },
  {
   "cell_type": "code",
   "execution_count": 4,
   "metadata": {
    "collapsed": true
   },
   "outputs": [],
   "source": [
    "def upd():\n",
    "    global a_guess, b_guess\n",
    "    y_pred = lin(a_guess, b_guess, x)\n",
    "    dldb = 2 * (y_pred - y)\n",
    "    dlda = x*dldb\n",
    "    a_guess -= lr*dlda.mean()\n",
    "    b_guess -= lr*dldb.mean()"
   ]
  },
  {
   "cell_type": "markdown",
   "metadata": {},
   "source": [
    "The updated parameters (or weights) are used for the next $x$ and $y$ values in the line. One pass through the entire line is one epoch. The more epochs we run, the closer $y_{pred}$ gets to $y$ and, consequently, the lower our calculated loss will be. However, with a small learning rate, this could take a while. Slightly increasing the steps we take as we walk opposite the gradient will help minimize our loss faster. Be careful though, because if the learning rate is too large, it could lead to divergence. \n",
    "\n",
    "The graph below shows $y_{pred}$ after 10 updates (epochs) with a learning rate of 0.12:"
   ]
  },
  {
   "cell_type": "code",
   "execution_count": 5,
   "metadata": {
    "collapsed": false
   },
   "outputs": [
    {
     "data": {
      "text/plain": [
       "<matplotlib.legend.Legend at 0x7f3343fcec50>"
      ]
     },
     "execution_count": 5,
     "metadata": {},
     "output_type": "execute_result"
    },
    {
     "data": {
      "image/png": "[encoded data removed]",
      "text/plain": [
       "<matplotlib.figure.Figure at 0x7f3343fce590>"
      ]
     },
     "metadata": {},
     "output_type": "display_data"
    }
   ],
   "source": [
    "fig = plt.figure(dpi=100, figsize=(3.5, 2.5))\n",
    "plt.scatter(x,y, label = \"y(x)\")\n",
    "plt.axis([0, 1.01, 2, 12])\n",
    "plt.xlabel(\"x\")\n",
    "plt.ylabel(\"y_pred\")\n",
    "for i in range(10): \n",
    "    upd()\n",
    "    line, = plt.plot(x,lin(a_guess,b_guess,x), label = \"Update \" + str(i+1))\n",
    "plt.legend(bbox_to_anchor=(1.36, 1.025), prop={'size': 7})"
   ]
  },
  {
   "cell_type": "markdown",
   "metadata": {
    "collapsed": true
   },
   "source": [
    "To increase the training speed while also minimizing the risk of divergence, we can use a **momentum parameter**. \n",
    "\n",
    "## Momentum\n",
    "\n",
    "Setting high learning rates could result in overshooting one iteration and undershooting the next, getting into an oscillating pattern where training never converges. **Momentum** is meant to reduce the risk of this oscillation while also increasing the training speed. How does this work? Well, as we near the global minimum of our loss function, we continually decrease our momentum parameter. In this way, momentum is a technique that uses an adaptive learning rate that varies based on the weights used.\n",
    "\n",
    "To apply momentum to our update function, we add the average from the previous gradient to the gradient term. So, when we think of the hypersurface of our loss function, which has saddle points (points where the gradient is really low but doesn't reach a minima), taking the average of the previous gradient will help us avoid bouncing between saddle points. Instead, the average will go along the trough of the function. \n",
    "\n",
    "## Dynamic Learning Rates\n",
    "\n",
    "Momentum, while effective for certain parameters, doesn't effectiently optimize all parameters. A better approach is to dynamically adjust the learning rate for each parameter, using what was learned from the optimization process.\n",
    "\n",
    "### Adagrad\n",
    "\n",
    "**Adagrad (Adaptive Gradient Algorithm)** is a technique where the learning rate is adjusted for each individual parameter based on the previous gradients for that parameter. Specifically, we take the squares of the gradient from the previously calculated parameter (to focus on magnitude, not whether the number is positive or negative) and square root the sum (otherwise known as the **l2-norm**). For the next epoch, the new learning rate becomes the overall learning rate divided by the l2-norm of the previous update. So, if the l2-norm is large, the learning rate will be small and vice versa. Applying this to our line $y = ax + b$, the learning rate becomes:\n",
    "\n",
    "$$lr = \\frac{lr}{\\frac{dl}{da} + \\frac{dl}{db}}$$ \n",
    "\n",
    "where $\\frac{dl}{da}$ and $\\frac{dl}{db}$ are the partial derivatives of the loss with respect to constants $a$ and $b$.\n",
    "\n",
    "When using adagrad and other forms of dynamic learning rates, it's good practice to intially set ```lr``` higher since it will eventually decrease when divided by the sum of the derivatives. This is one of adagrad's primary limitations: continually shrinking the learning rate for a given parameter, eventually stopping training on that parameter at some point. \n",
    "\n",
    "### RMSProp\n",
    "\n",
    "**RMSProp (Root Mean Square Propagation)** is very similar to adagrad, but resolves its limitation by being able to both decrease and increase the learning rate. Like adagrad, the overall learning rate is divided by the square root of the sum of squares of the previous update gradients for a given parameter. However, RMSProp doesn’t keep track of the weighted running average of the gradients equally. Instead, it uses an exponentially weighted moving average of the previous update gradients during one epoch. So, older values contribute less than newer ones, allowing parameters to jump around the optimum without moving too far out from the minima. \n",
    "\n",
    "### Adam\n",
    "\n",
    "**Adam (Adaptive Moment Estimation)** combines the benefits of momentum with those of RMSProp. Momentum is able to learn from the moving average of the gradient and continues to adjust parameters in that direction. RMSProp learns from the weighted moving average of the square of the gradients, proportionally shrinking the learning rate. Adam incorporates both of these benefits by multiplying the learning rate with the momentum and dividing by a factor related to the variance.\n",
    "\n",
    "### Eve\n",
    "\n",
    "**Eve** is an extension of Adam that keeps track of the change in loss function and updates the learning rate with the difference. Essentially, Eve increases the learning rate when there is little to no change in the loss function, and decreases it when the loss function fluctuates. So, when the loss function is barely changing, increasing the learning rate will effectively increase the training speed and vice versa. \n",
    "\n",
    "One of Eve's limitations comes when approaching a minimum. We want to take small steps to near our minimum, but Eve takes the small change in gradient as an incentive to increase the learning rate, which will bounce us out of our minimum. \n",
    "\n",
    "## State Farm Kaggle Competition\n",
    "\n",
    "In this lesson, we covered Jeremy's approach to the State Farm Kaggle Competition, where we used **semi-supervised learning** to learn from unlabeled data. This was helpful to use for the competition since our given test set (unlabeled) contained 80,000 images whereas the training set (labeled) only had 20,000. \n",
    "\n",
    "The details on this submission can be found in my [State Farm Competition notebook](https://github.com/fdaham/fastai/blob/master/state_farm_kaggle.ipynb).\n",
    "\n",
    "\n",
    "## Collaborative Filtering\n",
    "\n",
    "We'll now move on from CNNs to deep learning in **Natural Language Processing (NLP)**. The path to NLP starts with **collaborative filtering**, which is a method used by **recommender systems** to make predictions on user interests from information collected from the user. \n",
    "\n",
    "### Recommender Systems\n",
    "\n",
    "Recommender systems are essentially information filtering systems that predict user ratings, taste, and preferences. One of the main ways to build a recommender system is to use collaborative filtering. In a movie recommender system, collaborative filtering will predict your rating of a movie by finding users that have rated the same movies as you have. \n",
    "\n",
    "The dataset we'll be using to better understand collaborative filtering is the [Movielens Dataset](https://grouplens.org/datasets/movielens/), which contains over 100,000 movie ratings across 9,125 movies created by 671 users between January 1995 and October 2016. I've already imported and unzipped `ml-latest-small.zip` into `data/ml-small/`. Next, you'll need to import the necessary modules and define/create the data and model paths:"
   ]
  },
  {
   "cell_type": "code",
   "execution_count": 6,
   "metadata": {
    "collapsed": false
   },
   "outputs": [
    {
     "name": "stderr",
     "output_type": "stream",
     "text": [
      "Using Theano backend.\n"
     ]
    }
   ],
   "source": [
    "from theano.sandbox import cuda\n",
    "import utils; reload(utils)\n",
    "from utils import *"
   ]
  },
  {
   "cell_type": "code",
   "execution_count": 7,
   "metadata": {
    "collapsed": true
   },
   "outputs": [],
   "source": [
    "path = 'data/ml-small/'\n",
    "model_path = path + 'models/'\n",
    "if not os.path.exists(model_path): os.mkdir(model_path)\n",
    "batch_size = 64"
   ]
  },
  {
   "cell_type": "markdown",
   "metadata": {},
   "source": [
    "We can now read in the user movie ratings and movie names (for display purposes later):"
   ]
  },
  {
   "cell_type": "code",
   "execution_count": 8,
   "metadata": {
    "collapsed": true
   },
   "outputs": [],
   "source": [
    "ratings = pd.read_csv(path+'ratings.csv')\n",
    "movie_names = pd.read_csv(path+'movies.csv').set_index('movieId')['title'].to_dict()"
   ]
  },
  {
   "cell_type": "code",
   "execution_count": 9,
   "metadata": {
    "collapsed": true
   },
   "outputs": [],
   "source": [
    "users = ratings.userId.unique()\n",
    "movies = ratings.movieId.unique()"
   ]
  },
  {
   "cell_type": "code",
   "execution_count": 10,
   "metadata": {
    "collapsed": true
   },
   "outputs": [],
   "source": [
    "userid2idx = {o:i for i,o in enumerate(users)}\n",
    "movieid2idx = {o:i for i,o in enumerate(movies)}"
   ]
  },
  {
   "cell_type": "markdown",
   "metadata": {},
   "source": [
    "For this example, we'll only focus on the top 15 users and movies. Their ratings are shown below:"
   ]
  },
  {
   "cell_type": "code",
   "execution_count": 11,
   "metadata": {
    "collapsed": true
   },
   "outputs": [],
   "source": [
    "g1 = ratings.groupby('userId')['rating'].count()\n",
    "g2 = ratings.groupby('movieId')['rating'].count()\n",
    "topUsers = g1.sort_values(ascending=False)[:15]\n",
    "topMovies=g2.sort_values(ascending=False)[:15]"
   ]
  },
  {
   "cell_type": "code",
   "execution_count": 12,
   "metadata": {
    "collapsed": true
   },
   "outputs": [],
   "source": [
    "top_r = ratings.join(topUsers, rsuffix='_r', how='inner', on='userId')\n",
    "top_r = top_r.join(topMovies, rsuffix='_r', how='inner', on='movieId')"
   ]
  },
  {
   "cell_type": "code",
   "execution_count": 13,
   "metadata": {
    "collapsed": false
   },
   "outputs": [
    {
     "data": {
      "text/html": [
       "<div>\n",
       "<table border=\"1\" class=\"dataframe\">\n",
       "  <thead>\n",
       "    <tr style=\"text-align: right;\">\n",
       "      <th>movieId</th>\n",
       "      <th>1</th>\n",
       "      <th>110</th>\n",
       "      <th>260</th>\n",
       "      <th>296</th>\n",
       "      <th>318</th>\n",
       "      <th>356</th>\n",
       "      <th>480</th>\n",
       "      <th>527</th>\n",
       "      <th>589</th>\n",
       "      <th>593</th>\n",
       "      <th>608</th>\n",
       "      <th>1196</th>\n",
       "      <th>1198</th>\n",
       "      <th>1270</th>\n",
       "      <th>2571</th>\n",
       "    </tr>\n",
       "    <tr>\n",
       "      <th>userId</th>\n",
       "      <th></th>\n",
       "      <th></th>\n",
       "      <th></th>\n",
       "      <th></th>\n",
       "      <th></th>\n",
       "      <th></th>\n",
       "      <th></th>\n",
       "      <th></th>\n",
       "      <th></th>\n",
       "      <th></th>\n",
       "      <th></th>\n",
       "      <th></th>\n",
       "      <th></th>\n",
       "      <th></th>\n",
       "      <th></th>\n",
       "    </tr>\n",
       "  </thead>\n",
       "  <tbody>\n",
       "    <tr>\n",
       "      <th>15</th>\n",
       "      <td>2.0</td>\n",
       "      <td>3.0</td>\n",
       "      <td>5.0</td>\n",
       "      <td>5.0</td>\n",
       "      <td>2.0</td>\n",
       "      <td>1.0</td>\n",
       "      <td>3.0</td>\n",
       "      <td>4.0</td>\n",
       "      <td>4.0</td>\n",
       "      <td>5.0</td>\n",
       "      <td>5.0</td>\n",
       "      <td>5.0</td>\n",
       "      <td>4.0</td>\n",
       "      <td>5.0</td>\n",
       "      <td>5.0</td>\n",
       "    </tr>\n",
       "    <tr>\n",
       "      <th>30</th>\n",
       "      <td>4.0</td>\n",
       "      <td>5.0</td>\n",
       "      <td>4.0</td>\n",
       "      <td>5.0</td>\n",
       "      <td>5.0</td>\n",
       "      <td>5.0</td>\n",
       "      <td>4.0</td>\n",
       "      <td>5.0</td>\n",
       "      <td>4.0</td>\n",
       "      <td>4.0</td>\n",
       "      <td>5.0</td>\n",
       "      <td>4.0</td>\n",
       "      <td>5.0</td>\n",
       "      <td>5.0</td>\n",
       "      <td>3.0</td>\n",
       "    </tr>\n",
       "    <tr>\n",
       "      <th>73</th>\n",
       "      <td>5.0</td>\n",
       "      <td>4.0</td>\n",
       "      <td>4.5</td>\n",
       "      <td>5.0</td>\n",
       "      <td>5.0</td>\n",
       "      <td>5.0</td>\n",
       "      <td>4.0</td>\n",
       "      <td>5.0</td>\n",
       "      <td>3.0</td>\n",
       "      <td>4.5</td>\n",
       "      <td>4.0</td>\n",
       "      <td>5.0</td>\n",
       "      <td>5.0</td>\n",
       "      <td>5.0</td>\n",
       "      <td>4.5</td>\n",
       "    </tr>\n",
       "    <tr>\n",
       "      <th>212</th>\n",
       "      <td>3.0</td>\n",
       "      <td>5.0</td>\n",
       "      <td>4.0</td>\n",
       "      <td>4.0</td>\n",
       "      <td>4.5</td>\n",
       "      <td>4.0</td>\n",
       "      <td>3.0</td>\n",
       "      <td>5.0</td>\n",
       "      <td>3.0</td>\n",
       "      <td>4.0</td>\n",
       "      <td>NaN</td>\n",
       "      <td>NaN</td>\n",
       "      <td>3.0</td>\n",
       "      <td>3.0</td>\n",
       "      <td>5.0</td>\n",
       "    </tr>\n",
       "    <tr>\n",
       "      <th>213</th>\n",
       "      <td>3.0</td>\n",
       "      <td>2.5</td>\n",
       "      <td>5.0</td>\n",
       "      <td>NaN</td>\n",
       "      <td>NaN</td>\n",
       "      <td>2.0</td>\n",
       "      <td>5.0</td>\n",
       "      <td>NaN</td>\n",
       "      <td>4.0</td>\n",
       "      <td>2.5</td>\n",
       "      <td>2.0</td>\n",
       "      <td>5.0</td>\n",
       "      <td>3.0</td>\n",
       "      <td>3.0</td>\n",
       "      <td>4.0</td>\n",
       "    </tr>\n",
       "    <tr>\n",
       "      <th>294</th>\n",
       "      <td>4.0</td>\n",
       "      <td>3.0</td>\n",
       "      <td>4.0</td>\n",
       "      <td>NaN</td>\n",
       "      <td>3.0</td>\n",
       "      <td>4.0</td>\n",
       "      <td>4.0</td>\n",
       "      <td>4.0</td>\n",
       "      <td>3.0</td>\n",
       "      <td>NaN</td>\n",
       "      <td>NaN</td>\n",
       "      <td>4.0</td>\n",
       "      <td>4.5</td>\n",
       "      <td>4.0</td>\n",
       "      <td>4.5</td>\n",
       "    </tr>\n",
       "    <tr>\n",
       "      <th>311</th>\n",
       "      <td>3.0</td>\n",
       "      <td>3.0</td>\n",
       "      <td>4.0</td>\n",
       "      <td>3.0</td>\n",
       "      <td>4.5</td>\n",
       "      <td>5.0</td>\n",
       "      <td>4.5</td>\n",
       "      <td>5.0</td>\n",
       "      <td>4.5</td>\n",
       "      <td>2.0</td>\n",
       "      <td>4.0</td>\n",
       "      <td>3.0</td>\n",
       "      <td>4.5</td>\n",
       "      <td>4.5</td>\n",
       "      <td>4.0</td>\n",
       "    </tr>\n",
       "    <tr>\n",
       "      <th>380</th>\n",
       "      <td>4.0</td>\n",
       "      <td>5.0</td>\n",
       "      <td>4.0</td>\n",
       "      <td>5.0</td>\n",
       "      <td>4.0</td>\n",
       "      <td>5.0</td>\n",
       "      <td>4.0</td>\n",
       "      <td>NaN</td>\n",
       "      <td>4.0</td>\n",
       "      <td>5.0</td>\n",
       "      <td>4.0</td>\n",
       "      <td>4.0</td>\n",
       "      <td>NaN</td>\n",
       "      <td>3.0</td>\n",
       "      <td>5.0</td>\n",
       "    </tr>\n",
       "    <tr>\n",
       "      <th>452</th>\n",
       "      <td>3.5</td>\n",
       "      <td>4.0</td>\n",
       "      <td>4.0</td>\n",
       "      <td>5.0</td>\n",
       "      <td>5.0</td>\n",
       "      <td>4.0</td>\n",
       "      <td>5.0</td>\n",
       "      <td>4.0</td>\n",
       "      <td>4.0</td>\n",
       "      <td>5.0</td>\n",
       "      <td>5.0</td>\n",
       "      <td>4.0</td>\n",
       "      <td>4.0</td>\n",
       "      <td>4.0</td>\n",
       "      <td>2.0</td>\n",
       "    </tr>\n",
       "    <tr>\n",
       "      <th>468</th>\n",
       "      <td>4.0</td>\n",
       "      <td>3.0</td>\n",
       "      <td>3.5</td>\n",
       "      <td>3.5</td>\n",
       "      <td>3.5</td>\n",
       "      <td>3.0</td>\n",
       "      <td>2.5</td>\n",
       "      <td>NaN</td>\n",
       "      <td>NaN</td>\n",
       "      <td>3.0</td>\n",
       "      <td>4.0</td>\n",
       "      <td>3.0</td>\n",
       "      <td>3.5</td>\n",
       "      <td>3.0</td>\n",
       "      <td>3.0</td>\n",
       "    </tr>\n",
       "    <tr>\n",
       "      <th>509</th>\n",
       "      <td>3.0</td>\n",
       "      <td>5.0</td>\n",
       "      <td>5.0</td>\n",
       "      <td>5.0</td>\n",
       "      <td>4.0</td>\n",
       "      <td>4.0</td>\n",
       "      <td>3.0</td>\n",
       "      <td>5.0</td>\n",
       "      <td>2.0</td>\n",
       "      <td>4.0</td>\n",
       "      <td>4.5</td>\n",
       "      <td>5.0</td>\n",
       "      <td>5.0</td>\n",
       "      <td>3.0</td>\n",
       "      <td>4.5</td>\n",
       "    </tr>\n",
       "    <tr>\n",
       "      <th>547</th>\n",
       "      <td>3.5</td>\n",
       "      <td>NaN</td>\n",
       "      <td>NaN</td>\n",
       "      <td>5.0</td>\n",
       "      <td>5.0</td>\n",
       "      <td>2.0</td>\n",
       "      <td>3.0</td>\n",
       "      <td>5.0</td>\n",
       "      <td>NaN</td>\n",
       "      <td>5.0</td>\n",
       "      <td>5.0</td>\n",
       "      <td>2.5</td>\n",
       "      <td>2.0</td>\n",
       "      <td>3.5</td>\n",
       "      <td>3.5</td>\n",
       "    </tr>\n",
       "    <tr>\n",
       "      <th>564</th>\n",
       "      <td>4.0</td>\n",
       "      <td>1.0</td>\n",
       "      <td>2.0</td>\n",
       "      <td>5.0</td>\n",
       "      <td>NaN</td>\n",
       "      <td>3.0</td>\n",
       "      <td>5.0</td>\n",
       "      <td>4.0</td>\n",
       "      <td>5.0</td>\n",
       "      <td>5.0</td>\n",
       "      <td>5.0</td>\n",
       "      <td>5.0</td>\n",
       "      <td>5.0</td>\n",
       "      <td>3.0</td>\n",
       "      <td>3.0</td>\n",
       "    </tr>\n",
       "    <tr>\n",
       "      <th>580</th>\n",
       "      <td>4.0</td>\n",
       "      <td>4.5</td>\n",
       "      <td>4.0</td>\n",
       "      <td>4.5</td>\n",
       "      <td>4.0</td>\n",
       "      <td>3.5</td>\n",
       "      <td>3.0</td>\n",
       "      <td>4.0</td>\n",
       "      <td>4.5</td>\n",
       "      <td>4.0</td>\n",
       "      <td>4.5</td>\n",
       "      <td>4.0</td>\n",
       "      <td>3.5</td>\n",
       "      <td>3.0</td>\n",
       "      <td>4.5</td>\n",
       "    </tr>\n",
       "    <tr>\n",
       "      <th>624</th>\n",
       "      <td>5.0</td>\n",
       "      <td>NaN</td>\n",
       "      <td>5.0</td>\n",
       "      <td>5.0</td>\n",
       "      <td>NaN</td>\n",
       "      <td>3.0</td>\n",
       "      <td>3.0</td>\n",
       "      <td>NaN</td>\n",
       "      <td>3.0</td>\n",
       "      <td>5.0</td>\n",
       "      <td>4.0</td>\n",
       "      <td>5.0</td>\n",
       "      <td>5.0</td>\n",
       "      <td>5.0</td>\n",
       "      <td>2.0</td>\n",
       "    </tr>\n",
       "  </tbody>\n",
       "</table>\n",
       "</div>"
      ],
      "text/plain": [
       "movieId  1     110   260   296   318   356   480   527   589   593   608   \\\n",
       "userId                                                                      \n",
       "15        2.0   3.0   5.0   5.0   2.0   1.0   3.0   4.0   4.0   5.0   5.0   \n",
       "30        4.0   5.0   4.0   5.0   5.0   5.0   4.0   5.0   4.0   4.0   5.0   \n",
       "73        5.0   4.0   4.5   5.0   5.0   5.0   4.0   5.0   3.0   4.5   4.0   \n",
       "212       3.0   5.0   4.0   4.0   4.5   4.0   3.0   5.0   3.0   4.0   NaN   \n",
       "213       3.0   2.5   5.0   NaN   NaN   2.0   5.0   NaN   4.0   2.5   2.0   \n",
       "294       4.0   3.0   4.0   NaN   3.0   4.0   4.0   4.0   3.0   NaN   NaN   \n",
       "311       3.0   3.0   4.0   3.0   4.5   5.0   4.5   5.0   4.5   2.0   4.0   \n",
       "380       4.0   5.0   4.0   5.0   4.0   5.0   4.0   NaN   4.0   5.0   4.0   \n",
       "452       3.5   4.0   4.0   5.0   5.0   4.0   5.0   4.0   4.0   5.0   5.0   \n",
       "468       4.0   3.0   3.5   3.5   3.5   3.0   2.5   NaN   NaN   3.0   4.0   \n",
       "509       3.0   5.0   5.0   5.0   4.0   4.0   3.0   5.0   2.0   4.0   4.5   \n",
       "547       3.5   NaN   NaN   5.0   5.0   2.0   3.0   5.0   NaN   5.0   5.0   \n",
       "564       4.0   1.0   2.0   5.0   NaN   3.0   5.0   4.0   5.0   5.0   5.0   \n",
       "580       4.0   4.5   4.0   4.5   4.0   3.5   3.0   4.0   4.5   4.0   4.5   \n",
       "624       5.0   NaN   5.0   5.0   NaN   3.0   3.0   NaN   3.0   5.0   4.0   \n",
       "\n",
       "movieId  1196  1198  1270  2571  \n",
       "userId                           \n",
       "15        5.0   4.0   5.0   5.0  \n",
       "30        4.0   5.0   5.0   3.0  \n",
       "73        5.0   5.0   5.0   4.5  \n",
       "212       NaN   3.0   3.0   5.0  \n",
       "213       5.0   3.0   3.0   4.0  \n",
       "294       4.0   4.5   4.0   4.5  \n",
       "311       3.0   4.5   4.5   4.0  \n",
       "380       4.0   NaN   3.0   5.0  \n",
       "452       4.0   4.0   4.0   2.0  \n",
       "468       3.0   3.5   3.0   3.0  \n",
       "509       5.0   5.0   3.0   4.5  \n",
       "547       2.5   2.0   3.5   3.5  \n",
       "564       5.0   5.0   3.0   3.0  \n",
       "580       4.0   3.5   3.0   4.5  \n",
       "624       5.0   5.0   5.0   2.0  "
      ]
     },
     "execution_count": 13,
     "metadata": {},
     "output_type": "execute_result"
    }
   ],
   "source": [
    "pd.crosstab(top_r.userId, top_r.movieId, top_r.rating, aggfunc=np.sum)"
   ]
  },
  {
   "cell_type": "markdown",
   "metadata": {},
   "source": [
    "To make learned predictions from our dataset, we use **embeddings** for each movie and user. Embeddings are vectors used to describe qualities or features of our data. We'll need to update the movie and user IDs so that they are contiguous integers, which is what we want when using embeddings:"
   ]
  },
  {
   "cell_type": "code",
   "execution_count": 14,
   "metadata": {
    "collapsed": true
   },
   "outputs": [],
   "source": [
    "ratings.movieId = ratings.movieId.apply(lambda x: movieid2idx[x])\n",
    "ratings.userId = ratings.userId.apply(lambda x: userid2idx[x])"
   ]
  },
  {
   "cell_type": "code",
   "execution_count": 15,
   "metadata": {
    "collapsed": true
   },
   "outputs": [],
   "source": [
    "user_min, user_max, movie_min, movie_max = (ratings.userId.min(), ratings.userId.max(), ratings.movieId.min(), \n",
    "                                            ratings.movieId.max())\n",
    "n_users = ratings.userId.nunique()\n",
    "n_movies = ratings.movieId.nunique()"
   ]
  },
  {
   "cell_type": "markdown",
   "metadata": {},
   "source": [
    "For our example, we'll create embeddings with 50 elements, or **latent factors**. We rarely know exactly what attributes these factors signify. All we know is that, through gradient descent, these learned factors better predict user ratings. We can train a neural network by concatenating the latent factor embeddings and applying them to our known ratings."
   ]
  },
  {
   "cell_type": "code",
   "execution_count": 16,
   "metadata": {
    "collapsed": true
   },
   "outputs": [],
   "source": [
    "n_factors = 50"
   ]
  },
  {
   "cell_type": "markdown",
   "metadata": {},
   "source": [
    "Taking the dot product of each user/movie embedding pair for the user's movie rating allows us to train the elements of each embedding as parameters during gradient descent. Before we implement the model, let's randomly split our data into training and validation sets:"
   ]
  },
  {
   "cell_type": "code",
   "execution_count": 17,
   "metadata": {
    "collapsed": true
   },
   "outputs": [],
   "source": [
    "np.random.seed = 42\n",
    "msk = np.random.rand(len(ratings)) < 0.8\n",
    "trn = ratings[msk]\n",
    "val = ratings[~msk]"
   ]
  },
  {
   "cell_type": "markdown",
   "metadata": {},
   "source": [
    "Now, we'll implement the simplest model; calculating the dot products of the movie and user embeddings:"
   ]
  },
  {
   "cell_type": "code",
   "execution_count": 18,
   "metadata": {
    "collapsed": true
   },
   "outputs": [],
   "source": [
    "user_in = Input(shape=(1,), dtype='int64', name='user_in')\n",
    "u = Embedding(n_users, n_factors, input_length=1, W_regularizer=l2(1e-4))(user_in)\n",
    "movie_in = Input(shape=(1,), dtype='int64', name='movie_in')\n",
    "m = Embedding(n_movies, n_factors, input_length=1, W_regularizer=l2(1e-4))(movie_in)"
   ]
  },
  {
   "cell_type": "code",
   "execution_count": 19,
   "metadata": {
    "collapsed": true
   },
   "outputs": [],
   "source": [
    "x = merge([u, m], mode='dot')\n",
    "x = Flatten()(x)\n",
    "model = Model([user_in, movie_in], x)\n",
    "model.compile(Adam(0.001), loss='mse')"
   ]
  },
  {
   "cell_type": "code",
   "execution_count": 20,
   "metadata": {
    "collapsed": false
   },
   "outputs": [
    {
     "name": "stdout",
     "output_type": "stream",
     "text": [
      "Train on 80049 samples, validate on 19955 samples\n",
      "Epoch 1/1\n",
      "80049/80049 [==============================] - 14s - loss: 9.8540 - val_loss: 3.8566\n"
     ]
    },
    {
     "data": {
      "text/plain": [
       "<keras.callbacks.History at 0x7f33250c9dd0>"
      ]
     },
     "execution_count": 20,
     "metadata": {},
     "output_type": "execute_result"
    }
   ],
   "source": [
    "model.fit([trn.userId, trn.movieId], trn.rating, batch_size=64, nb_epoch=1, \n",
    "          validation_data=([val.userId, val.movieId], val.rating))"
   ]
  },
  {
   "cell_type": "code",
   "execution_count": 21,
   "metadata": {
    "collapsed": true
   },
   "outputs": [],
   "source": [
    "model.optimizer.lr = 0.01"
   ]
  },
  {
   "cell_type": "code",
   "execution_count": 22,
   "metadata": {
    "collapsed": false
   },
   "outputs": [
    {
     "name": "stdout",
     "output_type": "stream",
     "text": [
      "Train on 80049 samples, validate on 19955 samples\n",
      "Epoch 1/3\n",
      "80049/80049 [==============================] - 18s - loss: 3.1322 - val_loss: 2.0457\n",
      "Epoch 2/3\n",
      "80049/80049 [==============================] - 18s - loss: 2.3971 - val_loss: 1.6772\n",
      "Epoch 3/3\n",
      "80049/80049 [==============================] - 18s - loss: 2.2209 - val_loss: 1.5535\n"
     ]
    },
    {
     "data": {
      "text/plain": [
       "<keras.callbacks.History at 0x7f33250b6b10>"
      ]
     },
     "execution_count": 22,
     "metadata": {},
     "output_type": "execute_result"
    }
   ],
   "source": [
    "model.fit([trn.userId, trn.movieId], trn.rating, batch_size=64, nb_epoch=3, \n",
    "          validation_data=([val.userId, val.movieId], val.rating))"
   ]
  },
  {
   "cell_type": "code",
   "execution_count": 23,
   "metadata": {
    "collapsed": true
   },
   "outputs": [],
   "source": [
    "model.optimizer.lr = 0.001"
   ]
  },
  {
   "cell_type": "code",
   "execution_count": 24,
   "metadata": {
    "collapsed": false
   },
   "outputs": [
    {
     "name": "stdout",
     "output_type": "stream",
     "text": [
      "Train on 80049 samples, validate on 19955 samples\n",
      "Epoch 1/6\n",
      "80049/80049 [==============================] - 18s - loss: 2.1511 - val_loss: 1.4988\n",
      "Epoch 2/6\n",
      "80049/80049 [==============================] - 18s - loss: 2.1148 - val_loss: 1.4741\n",
      "Epoch 3/6\n",
      "80049/80049 [==============================] - 18s - loss: 2.0905 - val_loss: 1.4661\n",
      "Epoch 4/6\n",
      "80049/80049 [==============================] - 18s - loss: 2.0719 - val_loss: 1.4690\n",
      "Epoch 5/6\n",
      "80049/80049 [==============================] - 18s - loss: 2.0531 - val_loss: 1.4740\n",
      "Epoch 6/6\n",
      "80049/80049 [==============================] - 18s - loss: 2.0355 - val_loss: 1.4688\n"
     ]
    },
    {
     "data": {
      "text/plain": [
       "<keras.callbacks.History at 0x7f3328c64590>"
      ]
     },
     "execution_count": 24,
     "metadata": {},
     "output_type": "execute_result"
    }
   ],
   "source": [
    "model.fit([trn.userId, trn.movieId], trn.rating, batch_size=64, nb_epoch=6, \n",
    "          validation_data=([val.userId, val.movieId], val.rating))"
   ]
  },
  {
   "cell_type": "markdown",
   "metadata": {},
   "source": [
    "By implementing this simple concept, our model was able to achieve good results. \n",
    "\n",
    "### Bias\n",
    "\n",
    "Now, how do we account for user/movie **bias**? For example, what if a movie is more popular than the others and recieves more/higher ratings? We account for this in our collaborative filtering process by adding bias terms to each user and movie embedding. These terms are treated as parameters in training and optimized during gradient descent."
   ]
  },
  {
   "cell_type": "code",
   "execution_count": 25,
   "metadata": {
    "collapsed": true
   },
   "outputs": [],
   "source": [
    "def embedding_input(name, n_in, n_out, reg):\n",
    "    inp = Input(shape=(1,), dtype='int64', name=name)\n",
    "    return inp, Embedding(n_in, n_out, input_length=1, W_regularizer=l2(reg))(inp)"
   ]
  },
  {
   "cell_type": "code",
   "execution_count": 26,
   "metadata": {
    "collapsed": true
   },
   "outputs": [],
   "source": [
    "user_in, u = embedding_input('user_in', n_users, n_factors, 1e-4)\n",
    "movie_in, m = embedding_input('movie_in', n_movies, n_factors, 1e-4)"
   ]
  },
  {
   "cell_type": "code",
   "execution_count": 27,
   "metadata": {
    "collapsed": true
   },
   "outputs": [],
   "source": [
    "def create_bias(inp, n_in):\n",
    "    x = Embedding(n_in, 1, input_length=1)(inp)\n",
    "    return Flatten()(x)"
   ]
  },
  {
   "cell_type": "code",
   "execution_count": 28,
   "metadata": {
    "collapsed": true
   },
   "outputs": [],
   "source": [
    "ub = create_bias(user_in, n_users)\n",
    "mb = create_bias(movie_in, n_movies)"
   ]
  },
  {
   "cell_type": "code",
   "execution_count": 29,
   "metadata": {
    "collapsed": true
   },
   "outputs": [],
   "source": [
    "x = merge([u, m], mode='dot')\n",
    "x = Flatten()(x)\n",
    "x = merge([x, ub], mode='sum')\n",
    "x = merge([x, mb], mode='sum')\n",
    "model = Model([user_in, movie_in], x)\n",
    "model.compile(Adam(0.001), loss='mse')"
   ]
  },
  {
   "cell_type": "code",
   "execution_count": 30,
   "metadata": {
    "collapsed": false
   },
   "outputs": [
    {
     "name": "stdout",
     "output_type": "stream",
     "text": [
      "Train on 80049 samples, validate on 19955 samples\n",
      "Epoch 1/1\n",
      "80049/80049 [==============================] - 14s - loss: 8.8391 - val_loss: 3.1760\n"
     ]
    },
    {
     "data": {
      "text/plain": [
       "<keras.callbacks.History at 0x7f3323bb66d0>"
      ]
     },
     "execution_count": 30,
     "metadata": {},
     "output_type": "execute_result"
    }
   ],
   "source": [
    "model.fit([trn.userId, trn.movieId], trn.rating, batch_size=64, nb_epoch=1, \n",
    "          validation_data=([val.userId, val.movieId], val.rating))"
   ]
  },
  {
   "cell_type": "code",
   "execution_count": 31,
   "metadata": {
    "collapsed": true
   },
   "outputs": [],
   "source": [
    "model.optimizer.lr = 0.01"
   ]
  },
  {
   "cell_type": "code",
   "execution_count": 32,
   "metadata": {
    "collapsed": false
   },
   "outputs": [
    {
     "name": "stdout",
     "output_type": "stream",
     "text": [
      "Train on 80049 samples, validate on 19955 samples\n",
      "Epoch 1/6\n",
      "80049/80049 [==============================] - 19s - loss: 2.5865 - val_loss: 1.6516\n",
      "Epoch 2/6\n",
      "80049/80049 [==============================] - 18s - loss: 1.9789 - val_loss: 1.3426\n",
      "Epoch 3/6\n",
      "80049/80049 [==============================] - 19s - loss: 1.8151 - val_loss: 1.2289\n",
      "Epoch 4/6\n",
      "80049/80049 [==============================] - 18s - loss: 1.7213 - val_loss: 1.1843\n",
      "Epoch 5/6\n",
      "80049/80049 [==============================] - 18s - loss: 1.6453 - val_loss: 1.1356\n",
      "Epoch 6/6\n",
      "80049/80049 [==============================] - 19s - loss: 1.5730 - val_loss: 1.1044\n"
     ]
    },
    {
     "data": {
      "text/plain": [
       "<keras.callbacks.History at 0x7f3323bcd110>"
      ]
     },
     "execution_count": 32,
     "metadata": {},
     "output_type": "execute_result"
    }
   ],
   "source": [
    "model.fit([trn.userId, trn.movieId], trn.rating, batch_size=64, nb_epoch=6, \n",
    "          validation_data=([val.userId, val.movieId], val.rating))"
   ]
  },
  {
   "cell_type": "code",
   "execution_count": 33,
   "metadata": {
    "collapsed": true
   },
   "outputs": [],
   "source": [
    "model.optimizer.lr = 0.001"
   ]
  },
  {
   "cell_type": "code",
   "execution_count": 34,
   "metadata": {
    "collapsed": false
   },
   "outputs": [
    {
     "name": "stdout",
     "output_type": "stream",
     "text": [
      "Train on 80049 samples, validate on 19955 samples\n",
      "Epoch 1/10\n",
      "80049/80049 [==============================] - 18s - loss: 1.5027 - val_loss: 1.0736\n",
      "Epoch 2/10\n",
      "80049/80049 [==============================] - 19s - loss: 1.4343 - val_loss: 1.0491\n",
      "Epoch 3/10\n",
      "80049/80049 [==============================] - 19s - loss: 1.3673 - val_loss: 1.0200\n",
      "Epoch 4/10\n",
      "80049/80049 [==============================] - 19s - loss: 1.3021 - val_loss: 0.9998\n",
      "Epoch 5/10\n",
      "80049/80049 [==============================] - 19s - loss: 1.2399 - val_loss: 0.9784\n",
      "Epoch 6/10\n",
      "80049/80049 [==============================] - 19s - loss: 1.1800 - val_loss: 0.9586\n",
      "Epoch 7/10\n",
      "80049/80049 [==============================] - 19s - loss: 1.1234 - val_loss: 0.9374\n",
      "Epoch 8/10\n",
      "80049/80049 [==============================] - 19s - loss: 1.0696 - val_loss: 0.9182\n",
      "Epoch 9/10\n",
      "80049/80049 [==============================] - 19s - loss: 1.0179 - val_loss: 0.9035\n",
      "Epoch 10/10\n",
      "80049/80049 [==============================] - 19s - loss: 0.9688 - val_loss: 0.8872\n"
     ]
    },
    {
     "data": {
      "text/plain": [
       "<keras.callbacks.History at 0x7f3323bcd1d0>"
      ]
     },
     "execution_count": 34,
     "metadata": {},
     "output_type": "execute_result"
    }
   ],
   "source": [
    "model.fit([trn.userId, trn.movieId], trn.rating, batch_size=64, nb_epoch=10, \n",
    "          validation_data=([val.userId, val.movieId], val.rating))"
   ]
  },
  {
   "cell_type": "code",
   "execution_count": 35,
   "metadata": {
    "collapsed": false
   },
   "outputs": [
    {
     "name": "stdout",
     "output_type": "stream",
     "text": [
      "Train on 80049 samples, validate on 19955 samples\n",
      "Epoch 1/5\n",
      "80049/80049 [==============================] - 19s - loss: 0.9228 - val_loss: 0.8751\n",
      "Epoch 2/5\n",
      "80049/80049 [==============================] - 19s - loss: 0.8797 - val_loss: 0.8603\n",
      "Epoch 3/5\n",
      "80049/80049 [==============================] - 20s - loss: 0.8391 - val_loss: 0.8479\n",
      "Epoch 4/5\n",
      "80049/80049 [==============================] - 20s - loss: 0.8019 - val_loss: 0.8390\n",
      "Epoch 5/5\n",
      "80049/80049 [==============================] - 20s - loss: 0.7677 - val_loss: 0.8309\n"
     ]
    },
    {
     "data": {
      "text/plain": [
       "<keras.callbacks.History at 0x7f3323bcd090>"
      ]
     },
     "execution_count": 35,
     "metadata": {},
     "output_type": "execute_result"
    }
   ],
   "source": [
    "model.fit([trn.userId, trn.movieId], trn.rating, batch_size=64, nb_epoch=5, \n",
    "          validation_data=([val.userId, val.movieId], val.rating))"
   ]
  },
  {
   "cell_type": "markdown",
   "metadata": {},
   "source": [
    "As we can see, our model was able to achieve dramatically better results. We can now use the model to generate predictions on a single user and movie ID. Let's say we want to predict what user 2 would rate movie 3:"
   ]
  },
  {
   "cell_type": "code",
   "execution_count": 36,
   "metadata": {
    "collapsed": false
   },
   "outputs": [
    {
     "data": {
      "text/plain": [
       "array([[ 3.2426]], dtype=float32)"
      ]
     },
     "execution_count": 36,
     "metadata": {},
     "output_type": "execute_result"
    }
   ],
   "source": [
    "model.predict([np.array([2]),np.array([3])])"
   ]
  },
  {
   "cell_type": "markdown",
   "metadata": {
    "collapsed": true
   },
   "source": [
    "The returned float (packed in an array) is the user movie rating out of 5. So, it looks like user 2 would most likely rate movie 3 as being mediocre. "
   ]
  },
  {
   "cell_type": "code",
   "execution_count": 37,
   "metadata": {
    "collapsed": true
   },
   "outputs": [],
   "source": [
    "model.save_weights(model_path+'bias.h5')"
   ]
  },
  {
   "cell_type": "markdown",
   "metadata": {},
   "source": [
    "### Keras' Functional API\n",
    "\n",
    "So far, we've been creating special purpose architectures using Keras' sequential API when we could've been using simpler/more accurate standard neural networks with Keras' functional API. The functional API gives us more control over designing our architectures; you start with your input layer, list every layer between each layer, then call the output with the input from the previous layer (similar to the sequential API, but ordered differently).\n",
    "\n",
    "With a functional API, we are able to add metadata to our CNN models (i.e. the size of our input images). In this case, we'll be concatenating the user and movie embeddings into a single vector and feed that through the network:"
   ]
  },
  {
   "cell_type": "code",
   "execution_count": 38,
   "metadata": {
    "collapsed": true
   },
   "outputs": [],
   "source": [
    "user_in, u = embedding_input('user_in', n_users, n_factors, 1e-4)\n",
    "movie_in, m = embedding_input('movie_in', n_movies, n_factors, 1e-4)"
   ]
  },
  {
   "cell_type": "code",
   "execution_count": 39,
   "metadata": {
    "collapsed": true
   },
   "outputs": [],
   "source": [
    "x = merge([u, m], mode='concat')\n",
    "x = Flatten()(x)\n",
    "x = Dropout(0.3)(x)\n",
    "x = Dense(70, activation='relu')(x)\n",
    "x = Dropout(0.75)(x)\n",
    "x = Dense(1)(x)\n",
    "nn = Model([user_in, movie_in], x)\n",
    "nn.compile(Adam(0.001), loss='mse')"
   ]
  },
  {
   "cell_type": "code",
   "execution_count": 40,
   "metadata": {
    "collapsed": false
   },
   "outputs": [
    {
     "name": "stdout",
     "output_type": "stream",
     "text": [
      "Train on 80049 samples, validate on 19955 samples\n",
      "Epoch 1/8\n",
      "80049/80049 [==============================] - 17s - loss: 2.5617 - val_loss: 0.9175\n",
      "Epoch 2/8\n",
      "80049/80049 [==============================] - 28s - loss: 1.5062 - val_loss: 0.8732\n",
      "Epoch 3/8\n",
      "80049/80049 [==============================] - 22s - loss: 1.2479 - val_loss: 0.8409\n",
      "Epoch 4/8\n",
      "80049/80049 [==============================] - 20s - loss: 1.0439 - val_loss: 0.8266\n",
      "Epoch 5/8\n",
      "80049/80049 [==============================] - 19s - loss: 0.9149 - val_loss: 0.7992\n",
      "Epoch 6/8\n",
      "80049/80049 [==============================] - 20s - loss: 0.8466 - val_loss: 0.7899\n",
      "Epoch 7/8\n",
      "80049/80049 [==============================] - 20s - loss: 0.8165 - val_loss: 0.7921\n",
      "Epoch 8/8\n",
      "80049/80049 [==============================] - 20s - loss: 0.8044 - val_loss: 0.7911\n"
     ]
    },
    {
     "data": {
      "text/plain": [
       "<keras.callbacks.History at 0x7f331a820b90>"
      ]
     },
     "execution_count": 40,
     "metadata": {},
     "output_type": "execute_result"
    }
   ],
   "source": [
    "nn.fit([trn.userId, trn.movieId], trn.rating, batch_size=64, nb_epoch=8, \n",
    "          validation_data=([val.userId, val.movieId], val.rating))"
   ]
  },
  {
   "cell_type": "markdown",
   "metadata": {},
   "source": [
    "The results are even better than those obtained from the dot product and bias architecture we implemented earlier. We will continue to use this functional API in the upcoming lessons. \n",
    "\n",
    "### Latent Factors and PCA\n",
    "\n",
    "So, we assume that the elements of our embeddings, or latent factors, represent user/movie characteristics. We can see this through **Principle Component Analysis (PCA)**. Using PCA, we can take the first three principle components that capture the most information out of the 50 latent factors used in our example. From this, we can attempt to understand what each latent factor is \"measuring\".\n",
    "\n",
    "We are able to visualize the PCA on our 50 latent factors by mapping them together. Below, you can see the first principle component mapped against the third. From the bottom left to the top right, we can see that the movies seem to be \"measured\" by how classic/intense they are, which leads us to believe our first principle component (mapped on the x-axis) is measuring how classic a movie is while the second (mapped on the y-axis) is measuring movies by their intensity. \n",
    "\n",
    "To make the analysis more interesting, we'll restrict our dataset to only contain the top 2,000 highest rated movies:"
   ]
  },
  {
   "cell_type": "code",
   "execution_count": 41,
   "metadata": {
    "collapsed": true
   },
   "outputs": [],
   "source": [
    "g = ratings.groupby('movieId')['rating'].count()\n",
    "topMovies = g.sort_values(ascending=False)[:2000]\n",
    "topMovies = np.array(topMovies.index)"
   ]
  },
  {
   "cell_type": "code",
   "execution_count": 42,
   "metadata": {
    "collapsed": true
   },
   "outputs": [],
   "source": [
    "get_movie_emb = Model(movie_in, m)\n",
    "movie_emb = np.squeeze(get_movie_emb.predict([topMovies]))"
   ]
  },
  {
   "cell_type": "code",
   "execution_count": 43,
   "metadata": {
    "collapsed": true
   },
   "outputs": [],
   "source": [
    "from sklearn.decomposition import PCA\n",
    "pca = PCA(n_components = 3)\n",
    "movie_pca = pca.fit(movie_emb.T).components_"
   ]
  },
  {
   "cell_type": "code",
   "execution_count": 44,
   "metadata": {
    "collapsed": true
   },
   "outputs": [],
   "source": [
    "fac0 = movie_pca[0]\n",
    "fac2 = movie_pca[2]"
   ]
  },
  {
   "cell_type": "code",
   "execution_count": 45,
   "metadata": {
    "collapsed": true
   },
   "outputs": [],
   "source": [
    "import sys\n",
    "stdout, stderr = sys.stdout, sys.stderr \n",
    "reload(sys)\n",
    "sys.setdefaultencoding('utf-8')\n",
    "sys.stdout, sys.stderr = stdout, stderr "
   ]
  },
  {
   "cell_type": "code",
   "execution_count": 49,
   "metadata": {
    "collapsed": false
   },
   "outputs": [
    {
     "data": {
      "image/png": "[encoded data removed]",
      "text/plain": [
       "<matplotlib.figure.Figure at 0x7f331a3c84d0>"
      ]
     },
     "metadata": {},
     "output_type": "display_data"
    }
   ],
   "source": [
    "start = 50; end = 100\n",
    "X = fac0[start:end]\n",
    "Y = fac2[start:end]\n",
    "plt.figure(figsize = (8,8))\n",
    "plt.scatter(X, Y)\n",
    "for i, x, y in zip(topMovies[start:end], X, Y):\n",
    "    plt.text(x,y,movie_names[movies[i]], color = np.random.rand(3)*0.7, fontsize = 8)\n",
    "plt.show()"
   ]
  }
 ],
 "metadata": {
  "anaconda-cloud": {},
  "kernelspec": {
   "display_name": "Python [default]",
   "language": "python",
   "name": "python2"
  },
  "language_info": {
   "codemirror_mode": {
    "name": "ipython",
    "version": 2
   },
   "file_extension": ".py",
   "mimetype": "text/x-python",
   "name": "python",
   "nbconvert_exporter": "python",
   "pygments_lexer": "ipython2",
   "version": "2.7.12"
  }
 },
 "nbformat": 4,
 "nbformat_minor": 0
}
